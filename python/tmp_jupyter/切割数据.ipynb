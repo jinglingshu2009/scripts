{
 "cells": [
  {
   "cell_type": "code",
   "execution_count": 225,
   "metadata": {},
   "outputs": [
    {
     "name": "stdout",
     "output_type": "stream",
     "text": [
      "3\n",
      "21\n",
      "22\n",
      "23\n",
      "24\n",
      "33\n",
      "51\n",
      "52\n",
      "53\n",
      "54\n",
      "6\n",
      "36\n",
      "581\n"
     ]
    }
   ],
   "source": [
    "_data='3;21;22;23;24;33;51;52;53;54;6;36;581'\n",
    "#print   len(_data)\n",
    "_DATA=[]\n",
    "_awk=\";\"\n",
    "b=0;\n",
    "for xxx in  _data:\n",
    "    #print xxx,_awk\n",
    "    if xxx != _awk:\n",
    "        b=b+1\n",
    "        if b==1:\n",
    "            b1=xxx\n",
    "        elif b==2:\n",
    "            b2=xxx\n",
    "        elif b==3:\n",
    "            b3=xxx \n",
    "    else:\n",
    "        if b==1:\n",
    "            info=b1\n",
    "        elif b==2:\n",
    "            info=b1+b2\n",
    "        elif b==3:\n",
    "            info=b1+b2+b3\n",
    "        INFO=info\n",
    "        print INFO\n",
    "        #print \"+++++++++++++++++\"\n",
    "        b=0\n",
    "INFO=b1+b2+b3\n",
    "\n",
    "print INFO\n",
    "        \n",
    "#print _DATA\n",
    "\n",
    "     "
   ]
  },
  {
   "cell_type": "code",
   "execution_count": 304,
   "metadata": {},
   "outputs": [
    {
     "name": "stdout",
     "output_type": "stream",
     "text": [
      "1:22:333:4444:55555:fasdf:43:fasdf:fasf:42423:4@#$#:44234:66676: : 3\n",
      "1:22:333:4444:55555:fasdf:43:fasdf:fasf:42423:4@#$#:44234:66676: : ['1', '22', '333', '4444', '55555', 'fasdf', '43', 'fasdf', 'fasf', '42423', '4@#$#', '44234', '66676']\n"
     ]
    }
   ],
   "source": [
    "def say_cut (src_data,cut,dst_data):\n",
    "    src_data=src_data+cut\n",
    "    print src_data,cut,dst_data\n",
    "    wc = 0\n",
    "    dst_data = []\n",
    "   # tmp_data = tmp_data\n",
    "    for tmp_srcdata in src_data:\n",
    "        if tmp_srcdata != cut:\n",
    "            wc = wc+1\n",
    "            if wc == 1:\n",
    "                tmp_data1 = tmp_srcdata\n",
    "            elif wc == 2:\n",
    "                tmp_data2 = tmp_srcdata\n",
    "            elif wc == 3:\n",
    "                tmp_data3 = tmp_srcdata\n",
    "            elif wc == 4:\n",
    "                tmp_data4 = tmp_srcdata\n",
    "            elif wc == 5:\n",
    "                tmp_data5 = tmp_srcdata          \n",
    "        else:\n",
    "            if wc == 1:\n",
    "                info = tmp_data1\n",
    "            elif wc == 2:\n",
    "                info = tmp_data1+tmp_data2\n",
    "            elif wc == 3:\n",
    "                info = tmp_data1+tmp_data2+tmp_data3\n",
    "            elif wc == 4:\n",
    "                info = tmp_data1+tmp_data2+tmp_data3+tmp_data4\n",
    "            elif wc == 5:\n",
    "                info = tmp_data1+tmp_data2+tmp_data3+tmp_data4+tmp_data5\n",
    "            dst_data.append(info)\n",
    "            wc = 0   \n",
    "    print  src_data,cut,dst_data\n",
    "            \n",
    "        \n",
    "    \n",
    "src_data=\"1:22:333:4444:55555:fasdf:43:fasdf:fasf:42423:4@#$#:44234:66676\"\n",
    "cut=\":\"\n",
    "dst_data=\"dstdata\"\n",
    "\n",
    "#print tmp_name\n",
    "say_cut (src_data,cut,x)\n"
   ]
  },
  {
   "cell_type": "code",
   "execution_count": 271,
   "metadata": {},
   "outputs": [
    {
     "name": "stdout",
     "output_type": "stream",
     "text": [
      "tmp_data1\n",
      "tmp_data2\n",
      "tmp_data3\n"
     ]
    }
   ],
   "source": [
    "wc=1\n",
    "tmp=\"tmp_data\"\n",
    "wc=3\n",
    "az=wc+1\n",
    "xxx=\"tmp%s\" %  (wc)\n",
    "for x in range (1,az):\n",
    "    tmp_name=\"tmp_data%s\"%(x)\n",
    "    print tmp_name\n"
   ]
  },
  {
   "cell_type": "code",
   "execution_count": null,
   "metadata": {},
   "outputs": [],
   "source": []
  }
 ],
 "metadata": {
  "kernelspec": {
   "display_name": "Python 2",
   "language": "python",
   "name": "python2"
  },
  "language_info": {
   "codemirror_mode": {
    "name": "ipython",
    "version": 2
   },
   "file_extension": ".py",
   "mimetype": "text/x-python",
   "name": "python",
   "nbconvert_exporter": "python",
   "pygments_lexer": "ipython2",
   "version": "2.7.14"
  }
 },
 "nbformat": 4,
 "nbformat_minor": 2
}
