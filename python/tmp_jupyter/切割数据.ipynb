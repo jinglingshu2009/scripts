{
 "cells": [
  {
   "cell_type": "code",
   "execution_count": 159,
   "metadata": {},
   "outputs": [
    {
     "name": "stdout",
     "output_type": "stream",
     "text": [
      "3\n",
      "21\n",
      "22\n",
      "23\n",
      "24\n",
      "33\n",
      "51\n",
      "52\n",
      "53\n",
      "54\n",
      "6\n",
      "36\n",
      "581\n"
     ]
    }
   ],
   "source": [
    "_data='3;21;22;23;24;33;51;52;53;54;6;36;581'\n",
    "#print   len(_data)\n",
    "_DATA=[]\n",
    "_awk=\";\"\n",
    "b=0;\n",
    "for xxx in  _data:\n",
    "    #print xxx,_awk\n",
    "    if xxx != _awk:\n",
    "        b=b+1\n",
    "        if b==1:\n",
    "            b1=xxx\n",
    "        elif b==2:\n",
    "            b2=xxx\n",
    "        elif b==3:\n",
    "            b3=xxx \n",
    "    else:\n",
    "        #continue\n",
    "        #print b\n",
    "        #continue\n",
    "        if b==1:\n",
    "            info=b1\n",
    "        elif b==2:\n",
    "            info=b1+b2\n",
    "        elif b==3:\n",
    "            info=b1+b2+b3\n",
    "        INFO=info\n",
    "        print INFO\n",
    "        #print \"+++++++++++++++++\"\n",
    "        b=0\n",
    "INFO=b1+b2+b3\n",
    "\n",
    "print INFO\n",
    "        \n",
    "#print _DATA\n",
    "\n",
    "     "
   ]
  },
  {
   "cell_type": "code",
   "execution_count": null,
   "metadata": {},
   "outputs": [],
   "source": []
  }
 ],
 "metadata": {
  "kernelspec": {
   "display_name": "Python 2",
   "language": "python",
   "name": "python2"
  },
  "language_info": {
   "codemirror_mode": {
    "name": "ipython",
    "version": 2
   },
   "file_extension": ".py",
   "mimetype": "text/x-python",
   "name": "python",
   "nbconvert_exporter": "python",
   "pygments_lexer": "ipython2",
   "version": "2.7.14"
  }
 },
 "nbformat": 4,
 "nbformat_minor": 2
}
