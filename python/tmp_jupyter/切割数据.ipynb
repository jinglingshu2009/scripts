{
 "cells": [
  {
   "cell_type": "code",
   "execution_count": 61,
   "metadata": {},
   "outputs": [
    {
     "ename": "NameError",
     "evalue": "name 'tmp1' is not defined",
     "output_type": "error",
     "traceback": [
      "\u001b[1;31m---------------------------------------------------------------------------\u001b[0m",
      "\u001b[1;31mNameError\u001b[0m                                 Traceback (most recent call last)",
      "\u001b[1;32m<ipython-input-61-d3241db0985a>\u001b[0m in \u001b[0;36m<module>\u001b[1;34m()\u001b[0m\n\u001b[0;32m     24\u001b[0m         \u001b[1;31m#print \"+++++++++++++++++\"\u001b[0m\u001b[1;33m\u001b[0m\u001b[1;33m\u001b[0m\u001b[0m\n\u001b[0;32m     25\u001b[0m         \u001b[0mb\u001b[0m\u001b[1;33m=\u001b[0m\u001b[1;36m0\u001b[0m\u001b[1;33m\u001b[0m\u001b[0m\n\u001b[1;32m---> 26\u001b[1;33m \u001b[0mnew_data\u001b[0m\u001b[1;33m.\u001b[0m\u001b[0mappend\u001b[0m\u001b[1;33m(\u001b[0m\u001b[0mtmp1\u001b[0m\u001b[1;33m+\u001b[0m\u001b[0mtmp2\u001b[0m\u001b[1;33m+\u001b[0m\u001b[0mtmp3\u001b[0m\u001b[1;33m)\u001b[0m\u001b[1;33m\u001b[0m\u001b[0m\n\u001b[0m\u001b[0;32m     27\u001b[0m \u001b[1;32mprint\u001b[0m \u001b[0mnew_data\u001b[0m\u001b[1;33m.\u001b[0m\u001b[0mappend\u001b[0m\u001b[1;33m\u001b[0m\u001b[0m\n\u001b[0;32m     28\u001b[0m \u001b[1;33m\u001b[0m\u001b[0m\n",
      "\u001b[1;31mNameError\u001b[0m: name 'tmp1' is not defined"
     ]
    }
   ],
   "source": [
    "\n",
    "\n",
    "data='3;21;22;23;24;33;51;52;53;54;6;36;581'\n",
    "awk=\";\"\n",
    "new_data=[]\n",
    "b=0\n",
    "for tmp_data in  _data:\n",
    "    if tmp_data != awk:\n",
    "        b=b+1\n",
    "        if b==1:\n",
    "            tmp1=tmp_data\n",
    "        elif b==2:\n",
    "            tmp2=tmp_data\n",
    "        elif b==3:\n",
    "            tmp3=tmp_data\n",
    "    else:\n",
    "        if b==1:\n",
    "            info=tmp1\n",
    "        elif b==2:\n",
    "            info=tmp1+tmp2\n",
    "        elif b==3:\n",
    "            info=tmp1+tmp2+tmp3\n",
    "        new_data.append(info)        \n",
    "        #print \"+++++++++++++++++\"\n",
    "        b=0\n",
    "new_data.append(tmp1+tmp2+tmp3)\n",
    "print new_data.append\n",
    "        \n",
    "#print _DATA\n",
    "\n",
    "     "
   ]
  },
  {
   "cell_type": "code",
   "execution_count": 54,
   "metadata": {},
   "outputs": [
    {
     "ename": "IndentationError",
     "evalue": "expected an indented block (<ipython-input-54-3fd9175cd553>, line 2)",
     "output_type": "error",
     "traceback": [
      "\u001b[1;36m  File \u001b[1;32m\"<ipython-input-54-3fd9175cd553>\"\u001b[1;36m, line \u001b[1;32m2\u001b[0m\n\u001b[1;33m    new_data=[]\u001b[0m\n\u001b[1;37m           ^\u001b[0m\n\u001b[1;31mIndentationError\u001b[0m\u001b[1;31m:\u001b[0m expected an indented block\n"
     ]
    }
   ],
   "source": [
    "def test_list (aa,bb,new_data):\n",
    "new_data=[]\n",
    "b=0\n",
    "    for _data in  aa:\n",
    "    if _data != bb:\n",
    "        b=b+1\n",
    "        if b==1:\n",
    "            data1=_data\n",
    "        elif data==2:\n",
    "            data2=_data\n",
    "        elif b==3:\n",
    "            data3=_data \n",
    "    else:\n",
    "        if b==1:\n",
    "            info=data1\n",
    "        elif b==2:\n",
    "            info=data1+data2\n",
    "        elif b==3:\n",
    "            info=data1+data2+data3\n",
    "        new_data.append(info)        \n",
    "        #print \"+++++++++++++++++\"\n",
    "        b=0\n",
    "new_data.append(data1+data2+data3)\n",
    "\n",
    "\n",
    "aa='3;21;22;23;24;33;51;52;53;54;6;36;581'\n",
    "bb=\";\"\n",
    "\n",
    "test_list(aa,bb,new_data)\n",
    "print new_data()"
   ]
  },
  {
   "cell_type": "code",
   "execution_count": null,
   "metadata": {},
   "outputs": [],
   "source": []
  },
  {
   "cell_type": "code",
   "execution_count": null,
   "metadata": {},
   "outputs": [],
   "source": []
  }
 ],
 "metadata": {
  "kernelspec": {
   "display_name": "Python 2",
   "language": "python",
   "name": "python2"
  },
  "language_info": {
   "codemirror_mode": {
    "name": "ipython",
    "version": 2
   },
   "file_extension": ".py",
   "mimetype": "text/x-python",
   "name": "python",
   "nbconvert_exporter": "python",
   "pygments_lexer": "ipython2",
   "version": "2.7.14"
  }
 },
 "nbformat": 4,
 "nbformat_minor": 2
}
