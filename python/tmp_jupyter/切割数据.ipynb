{
 "cells": [
  {
   "cell_type": "code",
<<<<<<< HEAD
   "execution_count": 61,
=======
   "execution_count": 1,
>>>>>>> ca28d4a434c57a716401a41f5dc880c350a07f81
   "metadata": {},
   "outputs": [
    {
     "ename": "NameError",
     "evalue": "name 'tmp1' is not defined",
     "output_type": "error",
     "traceback": [
      "\u001b[1;31m---------------------------------------------------------------------------\u001b[0m",
      "\u001b[1;31mNameError\u001b[0m                                 Traceback (most recent call last)",
      "\u001b[1;32m<ipython-input-61-d3241db0985a>\u001b[0m in \u001b[0;36m<module>\u001b[1;34m()\u001b[0m\n\u001b[0;32m     24\u001b[0m         \u001b[1;31m#print \"+++++++++++++++++\"\u001b[0m\u001b[1;33m\u001b[0m\u001b[1;33m\u001b[0m\u001b[0m\n\u001b[0;32m     25\u001b[0m         \u001b[0mb\u001b[0m\u001b[1;33m=\u001b[0m\u001b[1;36m0\u001b[0m\u001b[1;33m\u001b[0m\u001b[0m\n\u001b[1;32m---> 26\u001b[1;33m \u001b[0mnew_data\u001b[0m\u001b[1;33m.\u001b[0m\u001b[0mappend\u001b[0m\u001b[1;33m(\u001b[0m\u001b[0mtmp1\u001b[0m\u001b[1;33m+\u001b[0m\u001b[0mtmp2\u001b[0m\u001b[1;33m+\u001b[0m\u001b[0mtmp3\u001b[0m\u001b[1;33m)\u001b[0m\u001b[1;33m\u001b[0m\u001b[0m\n\u001b[0m\u001b[0;32m     27\u001b[0m \u001b[1;32mprint\u001b[0m \u001b[0mnew_data\u001b[0m\u001b[1;33m.\u001b[0m\u001b[0mappend\u001b[0m\u001b[1;33m\u001b[0m\u001b[0m\n\u001b[0;32m     28\u001b[0m \u001b[1;33m\u001b[0m\u001b[0m\n",
      "\u001b[1;31mNameError\u001b[0m: name 'tmp1' is not defined"
     ]
    }
   ],
   "source": [
    "\n",
    "\n",
    "data='3;21;22;23;24;33;51;52;53;54;6;36;581'\n",
    "awk=\";\"\n",
    "new_data=[]\n",
    "b=0\n",
    "for tmp_data in  _data:\n",
    "    if tmp_data != awk:\n",
    "        b=b+1\n",
    "        if b==1:\n",
    "            tmp1=tmp_data\n",
    "        elif b==2:\n",
    "            tmp2=tmp_data\n",
    "        elif b==3:\n",
    "            tmp3=tmp_data\n",
    "    else:\n",
    "        if b==1:\n",
    "            info=tmp1\n",
    "        elif b==2:\n",
    "            info=tmp1+tmp2\n",
    "        elif b==3:\n",
    "            info=tmp1+tmp2+tmp3\n",
    "        new_data.append(info)        \n",
    "        #print \"+++++++++++++++++\"\n",
    "        b=0\n",
    "new_data.append(tmp1+tmp2+tmp3)\n",
    "print new_data.append\n",
    "        \n",
    "#print _DATA\n",
    "\n",
    "     "
   ]
  },
  {
   "cell_type": "code",
<<<<<<< HEAD
   "execution_count": 54,
   "metadata": {},
   "outputs": [
    {
     "ename": "IndentationError",
     "evalue": "expected an indented block (<ipython-input-54-3fd9175cd553>, line 2)",
     "output_type": "error",
     "traceback": [
      "\u001b[1;36m  File \u001b[1;32m\"<ipython-input-54-3fd9175cd553>\"\u001b[1;36m, line \u001b[1;32m2\u001b[0m\n\u001b[1;33m    new_data=[]\u001b[0m\n\u001b[1;37m           ^\u001b[0m\n\u001b[1;31mIndentationError\u001b[0m\u001b[1;31m:\u001b[0m expected an indented block\n"
=======
   "execution_count": 7,
   "metadata": {},
   "outputs": [
    {
     "ename": "SyntaxError",
     "evalue": "invalid syntax (<ipython-input-7-47ec7b5fec00>, line 37)",
     "output_type": "error",
     "traceback": [
      "\u001b[1;36m  File \u001b[1;32m\"<ipython-input-7-47ec7b5fec00>\"\u001b[1;36m, line \u001b[1;32m37\u001b[0m\n\u001b[1;33m    src_data=[1:22:333:4444:55555]\u001b[0m\n\u001b[1;37m               ^\u001b[0m\n\u001b[1;31mSyntaxError\u001b[0m\u001b[1;31m:\u001b[0m invalid syntax\n"
>>>>>>> ca28d4a434c57a716401a41f5dc880c350a07f81
     ]
    }
   ],
   "source": [
<<<<<<< HEAD
    "def test_list (aa,bb,new_data):\n",
    "new_data=[]\n",
    "b=0\n",
    "    for _data in  aa:\n",
    "    if _data != bb:\n",
    "        b=b+1\n",
    "        if b==1:\n",
    "            data1=_data\n",
    "        elif data==2:\n",
    "            data2=_data\n",
    "        elif b==3:\n",
    "            data3=_data \n",
    "    else:\n",
    "        if b==1:\n",
    "            info=data1\n",
    "        elif b==2:\n",
    "            info=data1+data2\n",
    "        elif b==3:\n",
    "            info=data1+data2+data3\n",
    "        new_data.append(info)        \n",
    "        #print \"+++++++++++++++++\"\n",
    "        b=0\n",
    "new_data.append(data1+data2+data3)\n",
    "\n",
    "\n",
    "aa='3;21;22;23;24;33;51;52;53;54;6;36;581'\n",
    "bb=\";\"\n",
    "\n",
    "test_list(aa,bb,new_data)\n",
    "print new_data()"
=======
    "def say_cut (src_data,cut,dst_data):\n",
    "    src_data=src_data+cut\n",
    "    #print src_data,cut,dst_data\n",
    "    wc = 0\n",
    "    dst_data = []\n",
    "   # tmp_data = tmp_data\n",
    "    for tmp_srcdata in src_data:\n",
    "        if tmp_srcdata != cut:\n",
    "            wc = wc+1                \n",
    "            if wc == 1:\n",
    "                tmp_data1 = tmp_srcdata\n",
    "            elif wc == 2:\n",
    "                tmp_data2 = tmp_srcdata\n",
    "            elif wc == 3:\n",
    "                tmp_data3 = tmp_srcdata\n",
    "            elif wc == 4:\n",
    "                tmp_data4 = tmp_srcdata\n",
    "            elif wc == 5:\n",
    "                tmp_data5 = tmp_srcdata          \n",
    "        else:\n",
    "            if wc == 1:\n",
    "                info = tmp_data1\n",
    "            elif wc == 2:\n",
    "                info = tmp_data1+tmp_data2\n",
    "            elif wc == 3:\n",
    "                info = tmp_data1+tmp_data2+tmp_data3\n",
    "            elif wc == 4:\n",
    "                info = tmp_data1+tmp_data2+tmp_data3+tmp_data4\n",
    "            elif wc == 5:\n",
    "                info = tmp_data1+tmp_data2+tmp_data3+tmp_data4+tmp_data5\n",
    "            dst_data.append(info)\n",
    "            wc = 0  \n",
    "    print dst_data\n",
    "            \n",
    "        \n",
    "    \n",
    "src_data=[1:22:333:4444:55555]\n",
    "cut=\":\"\n",
    "dst_data=\"dstdata\"\n",
    "\n",
    "#print tmp_name\n",
    "#say_cut (src_data,cut,dst_data)\n",
    "print src_data.split(\"[\",1)\n"
>>>>>>> ca28d4a434c57a716401a41f5dc880c350a07f81
   ]
  },
  {
   "cell_type": "code",
<<<<<<< HEAD
   "execution_count": null,
   "metadata": {},
   "outputs": [],
   "source": []
=======
   "execution_count": 24,
   "metadata": {},
   "outputs": [
    {
     "name": "stdout",
     "output_type": "stream",
     "text": [
      "tmp_data1\n",
      "tmp_data2\n",
      "tmp_data3\n"
     ]
    }
   ],
   "source": [
    "wc=1\n",
    "tmp=\"tmp_data\"\n",
    "wc=3\n",
    "az=wc+1\n",
    "xxx=\"tmp%s\" %  (wc)\n",
    "for x in range (1,az):\n",
    "    tmp_name=\"tmp_data%s\"%(x)\n",
    "    print tmp_name\n"
   ]
>>>>>>> ca28d4a434c57a716401a41f5dc880c350a07f81
  },
  {
   "cell_type": "code",
   "execution_count": null,
   "metadata": {},
   "outputs": [],
   "source": []
  }
 ],
 "metadata": {
  "kernelspec": {
   "display_name": "Python 2",
   "language": "python",
   "name": "python2"
  },
  "language_info": {
   "codemirror_mode": {
    "name": "ipython",
    "version": 2
   },
   "file_extension": ".py",
   "mimetype": "text/x-python",
   "name": "python",
   "nbconvert_exporter": "python",
   "pygments_lexer": "ipython2",
   "version": "2.7.14"
  }
 },
 "nbformat": 4,
 "nbformat_minor": 2
}
