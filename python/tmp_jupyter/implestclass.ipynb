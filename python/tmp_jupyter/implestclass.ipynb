{
 "cells": [
  {
   "cell_type": "code",
   "execution_count": 55,
   "metadata": {},
   "outputs": [
    {
     "name": "stdout",
     "output_type": "stream",
     "text": [
      "This is version 2.7 \n",
      "This is name class\n",
      "None\n"
     ]
    }
   ],
   "source": [
    "#!/usr/bin/python\n",
    "# Filename: simplestclass.py\n",
    "import sys\n",
    "class Person:\n",
    "    pass #这是类文件\n",
    "    def os(self,name):\n",
    "        version=sys.winver\n",
    "        print \"This is version %s \\nThis is name %s\" % (version,name)\n",
    "        \n",
    "p = Person()\n",
    "print p.os(\"class\")"
   ]
  },
  {
   "cell_type": "code",
   "execution_count": 33,
   "metadata": {},
   "outputs": [
    {
     "name": "stdout",
     "output_type": "stream",
     "text": [
      "2.7\n",
      "None\n"
     ]
    }
   ],
   "source": [
    "import sys\n",
    "def os():\n",
    "    print sys.winver\n",
    "    \n",
    "print os()"
   ]
  },
  {
   "cell_type": "code",
   "execution_count": null,
   "metadata": {},
   "outputs": [],
   "source": []
  }
 ],
 "metadata": {
  "kernelspec": {
   "display_name": "Python 2",
   "language": "python",
   "name": "python2"
  },
  "language_info": {
   "codemirror_mode": {
    "name": "ipython",
    "version": 2
   },
   "file_extension": ".py",
   "mimetype": "text/x-python",
   "name": "python",
   "nbconvert_exporter": "python",
   "pygments_lexer": "ipython2",
   "version": "2.7.14"
  }
 },
 "nbformat": 4,
 "nbformat_minor": 2
}
