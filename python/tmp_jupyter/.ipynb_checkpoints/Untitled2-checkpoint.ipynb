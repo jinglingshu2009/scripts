{
 "cells": [
  {
   "cell_type": "code",
   "execution_count": 10,
   "metadata": {},
   "outputs": [
    {
     "ename": "ValueError",
     "evalue": "invalid 'family' kind argument; choose between 'udp6', 'all', 'udp4', 'inet', 'tcp6', 'tcp4', 'inet6', 'udp', 'tcp', 'inet4'",
     "output_type": "error",
     "traceback": [
      "\u001b[1;31m---------------------------------------------------------------------------\u001b[0m",
      "\u001b[1;31mValueError\u001b[0m                                Traceback (most recent call last)",
      "\u001b[1;32m<ipython-input-10-9e3823590240>\u001b[0m in \u001b[0;36m<module>\u001b[1;34m()\u001b[0m\n\u001b[0;32m     11\u001b[0m \u001b[0mnic\u001b[0m \u001b[1;33m=\u001b[0m \u001b[0mpsutil\u001b[0m\u001b[1;33m.\u001b[0m\u001b[0mnet_connections\u001b[0m\u001b[1;33m\u001b[0m\u001b[0m\n\u001b[0;32m     12\u001b[0m \u001b[1;31m#nic = psutil.net_connections(kind='inet')\u001b[0m\u001b[1;33m\u001b[0m\u001b[1;33m\u001b[0m\u001b[0m\n\u001b[1;32m---> 13\u001b[1;33m \u001b[1;32mprint\u001b[0m  \u001b[0mpsutil\u001b[0m\u001b[1;33m.\u001b[0m\u001b[0mnet_connections\u001b[0m\u001b[1;33m(\u001b[0m\u001b[0mkind\u001b[0m\u001b[1;33m=\u001b[0m\u001b[1;34m'family'\u001b[0m\u001b[1;33m)\u001b[0m\u001b[1;33m\u001b[0m\u001b[0m\n\u001b[0m\u001b[0;32m     14\u001b[0m \u001b[0mK\u001b[0m\u001b[1;33m=\u001b[0m\u001b[1;36m1\u001b[0m\u001b[1;33m\u001b[0m\u001b[0m\n\u001b[0;32m     15\u001b[0m \u001b[1;31m#for item_nic in nic :\u001b[0m\u001b[1;33m\u001b[0m\u001b[1;33m\u001b[0m\u001b[0m\n",
      "\u001b[1;32mc:\\python27\\lib\\site-packages\\psutil\\__init__.pyc\u001b[0m in \u001b[0;36mnet_connections\u001b[1;34m(kind)\u001b[0m\n\u001b[0;32m   2106\u001b[0m     \u001b[0mOn\u001b[0m \u001b[0mOSX\u001b[0m \u001b[0mthis\u001b[0m \u001b[0mfunction\u001b[0m \u001b[0mrequires\u001b[0m \u001b[0mroot\u001b[0m \u001b[0mprivileges\u001b[0m\u001b[1;33m.\u001b[0m\u001b[1;33m\u001b[0m\u001b[0m\n\u001b[0;32m   2107\u001b[0m     \"\"\"\n\u001b[1;32m-> 2108\u001b[1;33m     \u001b[1;32mreturn\u001b[0m \u001b[0m_psplatform\u001b[0m\u001b[1;33m.\u001b[0m\u001b[0mnet_connections\u001b[0m\u001b[1;33m(\u001b[0m\u001b[0mkind\u001b[0m\u001b[1;33m)\u001b[0m\u001b[1;33m\u001b[0m\u001b[0m\n\u001b[0m\u001b[0;32m   2109\u001b[0m \u001b[1;33m\u001b[0m\u001b[0m\n\u001b[0;32m   2110\u001b[0m \u001b[1;33m\u001b[0m\u001b[0m\n",
      "\u001b[1;32mc:\\python27\\lib\\site-packages\\psutil\\_pswindows.pyc\u001b[0m in \u001b[0;36mnet_connections\u001b[1;34m(kind, _pid)\u001b[0m\n\u001b[0;32m    321\u001b[0m     \u001b[1;32mif\u001b[0m \u001b[0mkind\u001b[0m \u001b[1;32mnot\u001b[0m \u001b[1;32min\u001b[0m \u001b[0mconn_tmap\u001b[0m\u001b[1;33m:\u001b[0m\u001b[1;33m\u001b[0m\u001b[0m\n\u001b[0;32m    322\u001b[0m         raise ValueError(\"invalid %r kind argument; choose between %s\"\n\u001b[1;32m--> 323\u001b[1;33m                          % (kind, ', '.join([repr(x) for x in conn_tmap])))\n\u001b[0m\u001b[0;32m    324\u001b[0m     \u001b[0mfamilies\u001b[0m\u001b[1;33m,\u001b[0m \u001b[0mtypes\u001b[0m \u001b[1;33m=\u001b[0m \u001b[0mconn_tmap\u001b[0m\u001b[1;33m[\u001b[0m\u001b[0mkind\u001b[0m\u001b[1;33m]\u001b[0m\u001b[1;33m\u001b[0m\u001b[0m\n\u001b[0;32m    325\u001b[0m     \u001b[0mrawlist\u001b[0m \u001b[1;33m=\u001b[0m \u001b[0mcext\u001b[0m\u001b[1;33m.\u001b[0m\u001b[0mnet_connections\u001b[0m\u001b[1;33m(\u001b[0m\u001b[0m_pid\u001b[0m\u001b[1;33m,\u001b[0m \u001b[0mfamilies\u001b[0m\u001b[1;33m,\u001b[0m \u001b[0mtypes\u001b[0m\u001b[1;33m)\u001b[0m\u001b[1;33m\u001b[0m\u001b[0m\n",
      "\u001b[1;31mValueError\u001b[0m: invalid 'family' kind argument; choose between 'udp6', 'all', 'udp4', 'inet', 'tcp6', 'tcp4', 'inet6', 'udp', 'tcp', 'inet4'"
     ]
    }
   ],
   "source": [
    "#!/usr/bin/python\n",
    "#^_^ coding:utf-8 ^_^\n",
    "#Filename:get_systeminfo.py\n",
    "import psutil\n",
    "import sys\n",
    "#reload(sys)\n",
    "#sys.setdefaultencoding('utf-8')\n",
    "\n",
    "cpu = psutil.cpu_times(percpu=True)\n",
    "cpu1 = psutil.cpu_times()\n",
    "nic = psutil.net_connections\n",
    "#nic = psutil.net_connections(kind='inet')\n",
    "print  psutil.net_connections()\n",
    "K=1\n",
    "#for item_nic in nic :\n",
    "#    print K,item_nic\n",
    "#    K=K+1"
   ]
  },
  {
   "cell_type": "code",
   "execution_count": null,
   "metadata": {},
   "outputs": [],
   "source": []
  }
 ],
 "metadata": {
  "kernelspec": {
   "display_name": "Python 2",
   "language": "python",
   "name": "python2"
  },
  "language_info": {
   "codemirror_mode": {
    "name": "ipython",
    "version": 2
   },
   "file_extension": ".py",
   "mimetype": "text/x-python",
   "name": "python",
   "nbconvert_exporter": "python",
   "pygments_lexer": "ipython2",
   "version": "2.7.14"
  }
 },
 "nbformat": 4,
 "nbformat_minor": 2
}
