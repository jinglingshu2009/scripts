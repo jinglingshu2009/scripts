{
 "cells": [
  {
   "cell_type": "code",
   "execution_count": 74,
   "metadata": {},
   "outputs": [],
   "source": [
    "#!/usr/bin/python\n",
    "#^_^ coding:utf-8 ^_^\n",
    "#Filename:get_systeminfo.py\n",
    "import psutil\n",
    "import sys\n",
    "#reload(sys)\n",
    "#sys.setdefaultencoding('utf-8')\n",
    "\n",
    "cpu = psutil.cpu_times(percpu=True)\n",
    "cpu1 = psutil.cpu_times()\n",
    "#nic = psutil.net_io_counters(pernic=True)\n",
    "nic = psutil.net_io_counters(pernic=True)\n",
    "print nic\n",
    "K=1\n",
    "for item_nic in nic :\n",
    "    print K,item_nic\n",
    "    K=K+1\n",
    "    "
   ]
  },
  {
   "cell_type": "code",
   "execution_count": null,
   "metadata": {},
   "outputs": [],
   "source": []
  },
  {
   "cell_type": "code",
   "execution_count": null,
   "metadata": {},
   "outputs": [],
   "source": []
  }
 ],
 "metadata": {
  "kernelspec": {
   "display_name": "Python 2",
   "language": "python",
   "name": "python2"
  },
  "language_info": {
   "codemirror_mode": {
    "name": "ipython",
    "version": 2
   },
   "file_extension": ".py",
   "mimetype": "text/x-python",
   "name": "python",
   "nbconvert_exporter": "python",
   "pygments_lexer": "ipython2",
   "version": "2.7.14"
  }
 },
 "nbformat": 4,
 "nbformat_minor": 2
}
