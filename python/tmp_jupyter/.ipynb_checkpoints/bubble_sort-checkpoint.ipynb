{
 "cells": [
  {
   "cell_type": "code",
   "execution_count": 76,
   "metadata": {},
   "outputs": [
    {
     "name": "stdout",
     "output_type": "stream",
     "text": [
      "[1, 2, 333, 444, 44234, 55555, 66676, 142423]\n",
      "min_data=1\n",
      "max_data=142423\n"
     ]
    }
   ],
   "source": [
    "\n",
    "def bubble_sort(nums):\n",
    "    #冒泡算法自定义函数\n",
    "    for j in range(len(nums)):\n",
    "        for i in range(0,len(nums)-j-1,1):\n",
    "            if nums[i] > nums[i+1]:\n",
    "                nums[i],nums[i+1] = nums[i+1],nums[i]\n",
    "                #print nums\n",
    "        #print ('\\n',j)\n",
    "\n",
    "numbers=[2,333,444,55555,1,142423,44234,66676]\n",
    "\n",
    "bubble_sort(numbers)\n",
    "print numbers\n",
    "print \"min_data=%s\\nmax_data=%s\" % (numbers[0],numbers[len(numbers)-1])\n",
    "\n"
   ]
  },
  {
   "cell_type": "code",
   "execution_count": null,
   "metadata": {},
   "outputs": [],
   "source": []
  },
  {
   "cell_type": "code",
   "execution_count": null,
   "metadata": {},
   "outputs": [],
   "source": []
  },
  {
   "cell_type": "code",
   "execution_count": null,
   "metadata": {},
   "outputs": [],
   "source": []
  }
 ],
 "metadata": {
  "kernelspec": {
   "display_name": "Python 2",
   "language": "python",
   "name": "python2"
  },
  "language_info": {
   "codemirror_mode": {
    "name": "ipython",
    "version": 2
   },
   "file_extension": ".py",
   "mimetype": "text/x-python",
   "name": "python",
   "nbconvert_exporter": "python",
   "pygments_lexer": "ipython2",
   "version": "2.7.14"
  }
 },
 "nbformat": 4,
 "nbformat_minor": 2
}
