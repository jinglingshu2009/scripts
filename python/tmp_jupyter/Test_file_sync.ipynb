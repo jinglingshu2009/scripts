{
 "cells": [
  {
   "cell_type": "code",
   "execution_count": 54,
   "metadata": {},
   "outputs": [
    {
     "name": "stdout",
     "output_type": "stream",
     "text": [
      "Please wait 2s ... ...\n"
     ]
    }
   ],
   "source": [
    "#!/bin/python\n",
    "#自动生产指定大小文件脚本\n",
    "#20180423 likun v1.0.0.0\n",
    "#文件类型（TXT\\DOC\\随机）\n",
    "import time\n",
    "\n",
    "def file_type():\n",
    "    pass\n",
    "    \n",
    "def file_data():\n",
    "    pass\n",
    "    \n",
    "def file_dir():\n",
    "    pass\n",
    "\n",
    "def disk_drive():\n",
    "    pass\n",
    "    \n",
    "def disk_alert():\n",
    "    pass\n",
    "\n",
    "def sleep_time(_time): #休眠时间\n",
    "    if not _time:#判断休眠时间_time变量不为空\n",
    "        #pass\n",
    "        print \"this _time null\"\n",
    "    else:\n",
    "        time.sleep(_time)\n",
    "        print \"Please wait %ss ... ...\" % _time\n",
    "\n",
    "_time=3\n",
    "sleep_time(2)\n",
    "\n",
    "     \n",
    "     "
   ]
  },
  {
   "cell_type": "code",
   "execution_count": null,
   "metadata": {},
   "outputs": [],
   "source": []
  },
  {
   "cell_type": "code",
   "execution_count": null,
   "metadata": {},
   "outputs": [],
   "source": []
  }
 ],
 "metadata": {
  "kernelspec": {
   "display_name": "Python 2",
   "language": "python",
   "name": "python2"
  },
  "language_info": {
   "codemirror_mode": {
    "name": "ipython",
    "version": 2
   },
   "file_extension": ".py",
   "mimetype": "text/x-python",
   "name": "python",
   "nbconvert_exporter": "python",
   "pygments_lexer": "ipython2",
   "version": "2.7.14"
  }
 },
 "nbformat": 4,
 "nbformat_minor": 2
}
