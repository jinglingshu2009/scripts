{
 "cells": [
  {
   "cell_type": "markdown",
   "metadata": {},
   "source": [
    "xxxx=[]\n",
    "for src_item in range(1,5,1):\n",
    "    item=src_item\n",
    "    xxxx.append(item)\n",
    "    print xxxx,len(xxxx)\n",
    "new_xxxx=tuple(xxxx)\n",
    "print max(new_xxxx)\n",
    "print min(new_xxxx)\n",
    "print new_xxxx\n",
    "str = \"-\";\n",
    "print str.join(new_xxxx);"
   ]
  },
  {
   "cell_type": "code",
   "execution_count": 8,
   "metadata": {},
   "outputs": [
    {
     "name": "stdout",
     "output_type": "stream",
     "text": [
      "[1] 1\n",
      "[1, 2] 2\n",
      "[1, 2, 3] 3\n",
      "[1, 2, 3, 4] 4\n",
      "4\n",
      "1\n",
      "(1, 2, 3, 4)\n"
     ]
    },
    {
     "ename": "TypeError",
     "evalue": "sequence item 0: expected string, int found",
     "output_type": "error",
     "traceback": [
      "\u001b[1;31m---------------------------------------------------------------------------\u001b[0m",
      "\u001b[1;31mTypeError\u001b[0m                                 Traceback (most recent call last)",
      "\u001b[1;32m<ipython-input-8-b92f18b45490>\u001b[0m in \u001b[0;36m<module>\u001b[1;34m()\u001b[0m\n\u001b[0;32m     10\u001b[0m \u001b[1;32mprint\u001b[0m \u001b[0mnew_xxxx\u001b[0m\u001b[1;33m\u001b[0m\u001b[0m\n\u001b[0;32m     11\u001b[0m \u001b[0m_str\u001b[0m \u001b[1;33m=\u001b[0m \u001b[1;34m'+'\u001b[0m\u001b[1;33m\u001b[0m\u001b[0m\n\u001b[1;32m---> 12\u001b[1;33m \u001b[1;32mprint\u001b[0m \u001b[0m_str\u001b[0m\u001b[1;33m.\u001b[0m\u001b[0mjoin\u001b[0m\u001b[1;33m(\u001b[0m\u001b[0mnew_xxxx\u001b[0m\u001b[1;33m)\u001b[0m\u001b[1;33m;\u001b[0m\u001b[1;33m\u001b[0m\u001b[0m\n\u001b[0m",
      "\u001b[1;31mTypeError\u001b[0m: sequence item 0: expected string, int found"
     ]
    }
   ],
   "source": [
    "\n",
    "xxxx=[]\n",
    "for src_item in range(1,5,1):\n",
    "    item=src_item\n",
    "    xxxx.append(item)\n",
    "    print xxxx,len(xxxx)\n",
    "new_xxxx=tuple(xxxx)\n",
    "print max(new_xxxx)\n",
    "print min(new_xxxx)\n",
    "print new_xxxx\n",
    "_str = '+'\n",
    "print _str.join(xxxx);"
   ]
  },
  {
   "cell_type": "code",
   "execution_count": null,
   "metadata": {},
   "outputs": [],
   "source": []
  },
  {
   "cell_type": "code",
   "execution_count": null,
   "metadata": {},
   "outputs": [],
   "source": []
  }
 ],
 "metadata": {
  "kernelspec": {
   "display_name": "Python 2",
   "language": "python",
   "name": "python2"
  },
  "language_info": {
   "codemirror_mode": {
    "name": "ipython",
    "version": 2
   },
   "file_extension": ".py",
   "mimetype": "text/x-python",
   "name": "python",
   "nbconvert_exporter": "python",
   "pygments_lexer": "ipython2",
   "version": "2.7.14"
  }
 },
 "nbformat": 4,
 "nbformat_minor": 2
}
